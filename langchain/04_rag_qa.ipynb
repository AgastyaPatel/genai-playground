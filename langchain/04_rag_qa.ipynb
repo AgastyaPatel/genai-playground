{
 "cells": [
  {
   "cell_type": "code",
   "execution_count": 1,
   "id": "5e743298-885b-451b-918b-b4d3e0544393",
   "metadata": {},
   "outputs": [],
   "source": [
    "import os\n",
    "\n",
    "from dotenv import load_dotenv, find_dotenv\n",
    "_ = load_dotenv(find_dotenv()) # read local .env file"
   ]
  },
  {
   "cell_type": "code",
   "execution_count": 2,
   "id": "fa8a6e73-9eb4-422a-869d-5cdd9a6c7bbb",
   "metadata": {},
   "outputs": [],
   "source": [
    "llm_model = 'gpt-4'"
   ]
  },
  {
   "cell_type": "code",
   "execution_count": 3,
   "id": "3f957d22-723c-4954-967d-78a571ec8a6d",
   "metadata": {},
   "outputs": [],
   "source": [
    "from langchain_openai import ChatOpenAI"
   ]
  },
  {
   "cell_type": "code",
   "execution_count": 4,
   "id": "39b431c0-c3ea-4101-9137-1bfbf6c8230b",
   "metadata": {},
   "outputs": [],
   "source": [
    "llm = ChatOpenAI(temperature=0.9, model=llm_model, api_key = os.environ['OPENAI_API_KEY'])"
   ]
  },
  {
   "cell_type": "markdown",
   "id": "d3125be0-b544-498e-8529-f29bc273349c",
   "metadata": {},
   "source": [
    "### LangChain: Q&A over Documents"
   ]
  },
  {
   "cell_type": "code",
   "execution_count": 5,
   "id": "466e893e-b7cd-41f1-9df4-0aa3ae36e15b",
   "metadata": {},
   "outputs": [
    {
     "name": "stdout",
     "output_type": "stream",
     "text": [
      "Requirement already satisfied: langchain-community in /home/agastya/mambaforge/lib/python3.10/site-packages (0.2.6)\n",
      "Requirement already satisfied: docarray in /home/agastya/mambaforge/lib/python3.10/site-packages (0.40.0)\n",
      "Requirement already satisfied: PyYAML>=5.3 in /home/agastya/mambaforge/lib/python3.10/site-packages (from langchain-community) (6.0.1)\n",
      "Requirement already satisfied: SQLAlchemy<3,>=1.4 in /home/agastya/mambaforge/lib/python3.10/site-packages (from langchain-community) (2.0.31)\n",
      "Requirement already satisfied: aiohttp<4.0.0,>=3.8.3 in /home/agastya/mambaforge/lib/python3.10/site-packages (from langchain-community) (3.8.5)\n",
      "Requirement already satisfied: dataclasses-json<0.7,>=0.5.7 in /home/agastya/mambaforge/lib/python3.10/site-packages (from langchain-community) (0.6.7)\n",
      "Requirement already satisfied: langchain<0.3.0,>=0.2.6 in /home/agastya/mambaforge/lib/python3.10/site-packages (from langchain-community) (0.2.6)\n",
      "Requirement already satisfied: langchain-core<0.3.0,>=0.2.10 in /home/agastya/mambaforge/lib/python3.10/site-packages (from langchain-community) (0.2.11)\n",
      "Requirement already satisfied: langsmith<0.2.0,>=0.1.0 in /home/agastya/mambaforge/lib/python3.10/site-packages (from langchain-community) (0.1.83)\n",
      "Requirement already satisfied: numpy<2,>=1 in /home/agastya/mambaforge/lib/python3.10/site-packages (from langchain-community) (1.26.4)\n",
      "Requirement already satisfied: requests<3,>=2 in /home/agastya/mambaforge/lib/python3.10/site-packages (from langchain-community) (2.31.0)\n",
      "Requirement already satisfied: tenacity!=8.4.0,<9.0.0,>=8.1.0 in /home/agastya/mambaforge/lib/python3.10/site-packages (from langchain-community) (8.3.0)\n",
      "Requirement already satisfied: orjson>=3.8.2 in /home/agastya/mambaforge/lib/python3.10/site-packages (from docarray) (3.10.6)\n",
      "Requirement already satisfied: pydantic>=1.10.8 in /home/agastya/mambaforge/lib/python3.10/site-packages (from docarray) (2.3.0)\n",
      "Requirement already satisfied: rich>=13.1.0 in /home/agastya/mambaforge/lib/python3.10/site-packages (from docarray) (13.5.3)\n",
      "Requirement already satisfied: types-requests>=2.28.11.6 in /home/agastya/mambaforge/lib/python3.10/site-packages (from docarray) (2.32.0.20240622)\n",
      "Requirement already satisfied: typing-inspect>=0.8.0 in /home/agastya/mambaforge/lib/python3.10/site-packages (from docarray) (0.9.0)\n",
      "Requirement already satisfied: attrs>=17.3.0 in /home/agastya/mambaforge/lib/python3.10/site-packages (from aiohttp<4.0.0,>=3.8.3->langchain-community) (23.2.0)\n",
      "Requirement already satisfied: charset-normalizer<4.0,>=2.0 in /home/agastya/mambaforge/lib/python3.10/site-packages (from aiohttp<4.0.0,>=3.8.3->langchain-community) (3.3.2)\n",
      "Requirement already satisfied: multidict<7.0,>=4.5 in /home/agastya/mambaforge/lib/python3.10/site-packages (from aiohttp<4.0.0,>=3.8.3->langchain-community) (6.0.4)\n",
      "Requirement already satisfied: async-timeout<5.0,>=4.0.0a3 in /home/agastya/mambaforge/lib/python3.10/site-packages (from aiohttp<4.0.0,>=3.8.3->langchain-community) (4.0.3)\n",
      "Requirement already satisfied: yarl<2.0,>=1.0 in /home/agastya/mambaforge/lib/python3.10/site-packages (from aiohttp<4.0.0,>=3.8.3->langchain-community) (1.9.2)\n",
      "Requirement already satisfied: frozenlist>=1.1.1 in /home/agastya/mambaforge/lib/python3.10/site-packages (from aiohttp<4.0.0,>=3.8.3->langchain-community) (1.4.0)\n",
      "Requirement already satisfied: aiosignal>=1.1.2 in /home/agastya/mambaforge/lib/python3.10/site-packages (from aiohttp<4.0.0,>=3.8.3->langchain-community) (1.3.1)\n",
      "Requirement already satisfied: marshmallow<4.0.0,>=3.18.0 in /home/agastya/mambaforge/lib/python3.10/site-packages (from dataclasses-json<0.7,>=0.5.7->langchain-community) (3.21.3)\n",
      "Requirement already satisfied: langchain-text-splitters<0.3.0,>=0.2.0 in /home/agastya/mambaforge/lib/python3.10/site-packages (from langchain<0.3.0,>=0.2.6->langchain-community) (0.2.2)\n",
      "Requirement already satisfied: jsonpatch<2.0,>=1.33 in /home/agastya/mambaforge/lib/python3.10/site-packages (from langchain-core<0.3.0,>=0.2.10->langchain-community) (1.33)\n",
      "Requirement already satisfied: packaging<25,>=23.2 in /home/agastya/mambaforge/lib/python3.10/site-packages (from langchain-core<0.3.0,>=0.2.10->langchain-community) (24.0)\n",
      "Requirement already satisfied: annotated-types>=0.4.0 in /home/agastya/mambaforge/lib/python3.10/site-packages (from pydantic>=1.10.8->docarray) (0.5.0)\n",
      "Requirement already satisfied: pydantic-core==2.6.3 in /home/agastya/mambaforge/lib/python3.10/site-packages (from pydantic>=1.10.8->docarray) (2.6.3)\n",
      "Requirement already satisfied: typing-extensions>=4.6.1 in /home/agastya/mambaforge/lib/python3.10/site-packages (from pydantic>=1.10.8->docarray) (4.11.0)\n",
      "Requirement already satisfied: idna<4,>=2.5 in /home/agastya/mambaforge/lib/python3.10/site-packages (from requests<3,>=2->langchain-community) (3.6)\n",
      "Requirement already satisfied: urllib3<3,>=1.21.1 in /home/agastya/mambaforge/lib/python3.10/site-packages (from requests<3,>=2->langchain-community) (2.2.1)\n",
      "Requirement already satisfied: certifi>=2017.4.17 in /home/agastya/mambaforge/lib/python3.10/site-packages (from requests<3,>=2->langchain-community) (2024.6.2)\n",
      "Requirement already satisfied: markdown-it-py>=2.2.0 in /home/agastya/mambaforge/lib/python3.10/site-packages (from rich>=13.1.0->docarray) (3.0.0)\n",
      "Requirement already satisfied: pygments<3.0.0,>=2.13.0 in /home/agastya/mambaforge/lib/python3.10/site-packages (from rich>=13.1.0->docarray) (2.17.2)\n",
      "Requirement already satisfied: greenlet!=0.4.17 in /home/agastya/mambaforge/lib/python3.10/site-packages (from SQLAlchemy<3,>=1.4->langchain-community) (3.0.3)\n",
      "Requirement already satisfied: mypy-extensions>=0.3.0 in /home/agastya/mambaforge/lib/python3.10/site-packages (from typing-inspect>=0.8.0->docarray) (1.0.0)\n",
      "Requirement already satisfied: jsonpointer>=1.9 in /home/agastya/mambaforge/lib/python3.10/site-packages (from jsonpatch<2.0,>=1.33->langchain-core<0.3.0,>=0.2.10->langchain-community) (2.4)\n",
      "Requirement already satisfied: mdurl~=0.1 in /home/agastya/mambaforge/lib/python3.10/site-packages (from markdown-it-py>=2.2.0->rich>=13.1.0->docarray) (0.1.0)\n"
     ]
    }
   ],
   "source": [
    "!pip install langchain-community docarray"
   ]
  },
  {
   "cell_type": "code",
   "execution_count": 21,
   "id": "3e8c437f-06d8-4658-ab4b-1830cdfe5e34",
   "metadata": {},
   "outputs": [],
   "source": [
    "from langchain.chains import RetrievalQA\n",
    "from langchain_openai import ChatOpenAI\n",
    "from langchain.document_loaders import CSVLoader\n",
    "from langchain.vectorstores import DocArrayInMemorySearch\n",
    "from IPython.display import display, Markdown\n",
    "from langchain.llms import OpenAI"
   ]
  },
  {
   "cell_type": "code",
   "execution_count": 7,
   "id": "5c72ad06-b4af-49f3-afff-9bfabdff407d",
   "metadata": {},
   "outputs": [],
   "source": [
    "file = 'dset/outdoor_cloth_catalog.csv'\n",
    "loader = CSVLoader(file_path=file)"
   ]
  },
  {
   "cell_type": "code",
   "execution_count": 8,
   "id": "e4ffb6f3-c923-48de-9ed6-cad75eb253db",
   "metadata": {},
   "outputs": [],
   "source": [
    "from langchain.indexes import VectorstoreIndexCreator"
   ]
  },
  {
   "cell_type": "code",
   "execution_count": 12,
   "id": "849adab5-a45c-440f-b0ce-bc3f115b7f70",
   "metadata": {},
   "outputs": [],
   "source": [
    "from langchain_openai.embeddings import OpenAIEmbeddings\n",
    "embeddings = OpenAIEmbeddings()"
   ]
  },
  {
   "cell_type": "code",
   "execution_count": 17,
   "id": "a199d23e-191a-40be-a9ee-847a82485415",
   "metadata": {},
   "outputs": [
    {
     "name": "stderr",
     "output_type": "stream",
     "text": [
      "/home/agastya/mambaforge/lib/python3.10/site-packages/pydantic/_migration.py:276: UserWarning: `pydantic.error_wrappers:ValidationError` has been moved to `pydantic:ValidationError`.\n",
      "  warnings.warn(f'`{import_path}` has been moved to `{new_location}`.')\n"
     ]
    }
   ],
   "source": [
    "index = VectorstoreIndexCreator(\n",
    "    vectorstore_cls=DocArrayInMemorySearch,\n",
    "    embedding=embeddings\n",
    ").from_loaders([loader])"
   ]
  },
  {
   "cell_type": "code",
   "execution_count": 18,
   "id": "e0a74759-0fb9-4cc8-a44f-d2c727841680",
   "metadata": {},
   "outputs": [],
   "source": [
    "query =\"Please list all your shirts with sun protection \\\n",
    "in a table in markdown and summarize each one.\""
   ]
  },
  {
   "cell_type": "code",
   "execution_count": 22,
   "id": "6b7574b0-cf81-426b-8635-c346dc23e9ab",
   "metadata": {},
   "outputs": [],
   "source": [
    "llm_replacement_model = ChatOpenAI(temperature=0,\n",
    "                               model=llm_model)\n",
    "response = index.query(query,\n",
    "                       llm = llm_replacement_model)"
   ]
  },
  {
   "cell_type": "code",
   "execution_count": 23,
   "id": "281b325a-e829-463f-811c-2161ddd4995e",
   "metadata": {},
   "outputs": [
    {
     "data": {
      "text/markdown": [
       "Sure, here are the shirts with sun protection:\n",
       "\n",
       "| Product ID | Name | Description | Material | Sun Protection | Additional Features |\n",
       "| --- | --- | --- | --- | --- | --- |\n",
       "| 618 | Men's Tropical Plaid Short-Sleeve Shirt | A light hot-weather shirt with a traditional fit. It is wrinkle-resistant and has front and back cape venting. | 100% Polyester | UPF 50+, blocks 98% of UV rays | Two front bellows pockets |\n",
       "| 374 | Men's Plaid Tropic Shirt, Short-Sleeve | A light hot-weather shirt originally designed for fishing. It is wrinkle-free and quickly evaporates perspiration. | 52% Polyester, 48% Nylon | UPF 50+, blocks 98% of UV rays | Front and back cape venting, two front bellows pockets |\n",
       "| 255 | Sun Shield Shirt | A high-performance sun shirt that wicks moisture for quick-drying comfort. It is abrasion resistant. | 78% Nylon, 22% Lycra Xtra Life fiber | UPF 50+, blocks 98% of UV rays | Fits comfortably over your favorite swimsuit |\n",
       "| 535 | Men's TropicVibe Shirt, Short-Sleeve | A sun-protection shirt with built-in UPF 50+ that has a lightweight feel. It is wrinkle resistant. | Shell: 71% Nylon, 29% Polyester. Lining: 100% Polyester knit mesh | UPF 50+, blocks 98% of UV rays | Front and back cape venting, two front bellows pockets |"
      ],
      "text/plain": [
       "<IPython.core.display.Markdown object>"
      ]
     },
     "metadata": {},
     "output_type": "display_data"
    }
   ],
   "source": [
    "display(Markdown(response))"
   ]
  },
  {
   "cell_type": "markdown",
   "id": "a6a759a6-6be5-418e-bebb-3593c21c05ab",
   "metadata": {},
   "source": [
    "### Step by Step"
   ]
  },
  {
   "cell_type": "code",
   "execution_count": 37,
   "id": "87efe6c2-c480-4030-9d40-e8e00c6591ab",
   "metadata": {},
   "outputs": [],
   "source": [
    "from langchain.document_loaders import CSVLoader\n",
    "file = 'dset/outdoor_cloth_catalog-limited.csv'\n",
    "loader = CSVLoader(file_path = file)"
   ]
  },
  {
   "cell_type": "code",
   "execution_count": 38,
   "id": "efec35d6-b8c1-4669-ad8a-3e182e501c9a",
   "metadata": {},
   "outputs": [
    {
     "data": {
      "text/plain": [
       "Document(metadata={'source': 'dset/outdoor_cloth_catalog-limited.csv', 'row': 0}, page_content=\": 0\\nname: Women's Campside Oxfords\\ndescription: This ultracomfortable lace-to-toe Oxford boasts a super-soft canvas, thick cushioning, and quality construction for a broken-in feel from the first time you put them on. \\r\\n\\r\\nSize & Fit: Order regular shoe size. For half sizes not offered, order up to next whole size. \\r\\n\\r\\nSpecs: Approx. weight: 1 lb.1 oz. per pair. \\r\\n\\r\\nConstruction: Soft canvas material for a broken-in feel and look. Comfortable EVA innersole with Cleansport NXT® antimicrobial odor control. Vintage hunt, fish and camping motif on innersole. Moderate arch contour of innersole. EVA foam midsole for cushioning and support. Chain-tread-inspired molded rubber outsole with modified chain-tread pattern. Imported. \\r\\n\\r\\nQuestions? Please contact us for any inquiries.\")"
      ]
     },
     "execution_count": 38,
     "metadata": {},
     "output_type": "execute_result"
    }
   ],
   "source": [
    "docs = loader.load()\n",
    "docs[0]"
   ]
  },
  {
   "cell_type": "code",
   "execution_count": 39,
   "id": "f1665c1d-200a-41b9-b1f3-8532472a3bf9",
   "metadata": {},
   "outputs": [],
   "source": [
    "embed = embeddings.embed_query(\"Hi my name is harrison\")"
   ]
  },
  {
   "cell_type": "code",
   "execution_count": 40,
   "id": "2ccaea29-4cd0-4e32-a7de-ac8101799cf7",
   "metadata": {},
   "outputs": [
    {
     "name": "stdout",
     "output_type": "stream",
     "text": [
      "1536 [-0.022224984768242112, 0.00861565871347167, -0.02159287570911561, -0.03651066887600874, -0.016396932574826772]\n"
     ]
    }
   ],
   "source": [
    "print(len(embed), embed[:5])"
   ]
  },
  {
   "cell_type": "code",
   "execution_count": 41,
   "id": "26816672-e0e0-4cb0-93fd-0ec214a4c128",
   "metadata": {},
   "outputs": [],
   "source": [
    "db = DocArrayInMemorySearch.from_documents(\n",
    "    docs, \n",
    "    embeddings\n",
    ")"
   ]
  },
  {
   "cell_type": "code",
   "execution_count": 42,
   "id": "5e382da9-139e-483c-a1d0-febdc5ae9c1c",
   "metadata": {},
   "outputs": [],
   "source": [
    "query = \"Please suggest a shirt with sunblocking\""
   ]
  },
  {
   "cell_type": "code",
   "execution_count": 43,
   "id": "55b7a439-43c5-401c-ba76-7511f317d535",
   "metadata": {},
   "outputs": [],
   "source": [
    "docs = db.similarity_search(query)"
   ]
  },
  {
   "cell_type": "code",
   "execution_count": 44,
   "id": "6705e956-ea73-4fb0-beaf-a4ca63bcf57b",
   "metadata": {},
   "outputs": [
    {
     "data": {
      "text/plain": [
       "[Document(metadata={'source': 'dset/outdoor_cloth_catalog-limited.csv', 'row': 255}, page_content=': 255\\nname: Sun Shield Shirt by\\ndescription: \"Block the sun, not the fun – our high-performance sun shirt is guaranteed to protect from harmful UV rays. \\r\\n\\r\\nSize & Fit: Slightly Fitted: Softly shapes the body. Falls at hip.\\r\\n\\r\\nFabric & Care: 78% nylon, 22% Lycra Xtra Life fiber. UPF 50+ rated – the highest rated sun protection possible. Handwash, line dry.\\r\\n\\r\\nAdditional Features: Wicks moisture for quick-drying comfort. Fits comfortably over your favorite swimsuit. Abrasion resistant for season after season of wear. Imported.\\r\\n\\r\\nSun Protection That Won\\'t Wear Off\\r\\nOur high-performance fabric provides SPF 50+ sun protection, blocking 98% of the sun\\'s harmful rays. This fabric is recommended by The Skin Cancer Foundation as an effective UV protectant.'),\n",
       " Document(metadata={'source': 'dset/outdoor_cloth_catalog-limited.csv', 'row': 374}, page_content=\": 374\\nname: Men's Plaid Tropic Shirt, Short-Sleeve\\ndescription: Our Ultracomfortable sun protection is rated to UPF 50+, helping you stay cool and dry. Originally designed for fishing, this lightest hot-weather shirt offers UPF 50+ coverage and is great for extended travel. SunSmart technology blocks 98% of the sun's harmful UV rays, while the high-performance fabric is wrinkle-free and quickly evaporates perspiration. Made with 52% polyester and 48% nylon, this shirt is machine washable and dryable. Additional features include front and back cape venting, two front bellows pockets and an imported design. With UPF 50+ coverage, you can limit sun exposure and feel secure with the highest rated sun protection available.\"),\n",
       " Document(metadata={'source': 'dset/outdoor_cloth_catalog-limited.csv', 'row': 535}, page_content=\": 535\\nname: Men's TropicVibe Shirt, Short-Sleeve\\ndescription: This Men’s sun-protection shirt with built-in UPF 50+ has the lightweight feel you want and the coverage you need when the air is hot and the UV rays are strong. Size & Fit: Traditional Fit: Relaxed through the chest, sleeve and waist. Fabric & Care: Shell: 71% Nylon, 29% Polyester. Lining: 100% Polyester knit mesh. UPF 50+ rated – the highest rated sun protection possible. Machine wash and dry. Additional Features: Wrinkle resistant. Front and back cape venting lets in cool breezes. Two front bellows pockets. Imported.\\r\\n\\r\\nSun Protection That Won't Wear Off: Our high-performance fabric provides SPF 50+ sun protection, blocking 98% of the sun's harmful rays.\"),\n",
       " Document(metadata={'source': 'dset/outdoor_cloth_catalog-limited.csv', 'row': 618}, page_content=\": 618\\nname: Men's Tropical Plaid Short-Sleeve Shirt\\ndescription: Our lightest hot-weather shirt is rated UPF 50+ for superior protection from the sun's UV rays. With a traditional fit that is relaxed through the chest, sleeve, and waist, this fabric is made of 100% polyester and is wrinkle-resistant. With front and back cape venting that lets in cool breezes and two front bellows pockets, this shirt is imported and provides the highest rated sun protection possible. \\r\\n\\r\\nSun Protection That Won't Wear Off. Our high-performance fabric provides SPF 50+ sun protection, blocking 98% of the sun's harmful rays.\")]"
      ]
     },
     "execution_count": 44,
     "metadata": {},
     "output_type": "execute_result"
    }
   ],
   "source": [
    "docs"
   ]
  },
  {
   "cell_type": "code",
   "execution_count": 46,
   "id": "6e39002e-dc21-4a74-9947-59bee5cef312",
   "metadata": {},
   "outputs": [
    {
     "data": {
      "text/plain": [
       "(4,\n",
       " Document(metadata={'source': 'dset/outdoor_cloth_catalog-limited.csv', 'row': 255}, page_content=': 255\\nname: Sun Shield Shirt by\\ndescription: \"Block the sun, not the fun – our high-performance sun shirt is guaranteed to protect from harmful UV rays. \\r\\n\\r\\nSize & Fit: Slightly Fitted: Softly shapes the body. Falls at hip.\\r\\n\\r\\nFabric & Care: 78% nylon, 22% Lycra Xtra Life fiber. UPF 50+ rated – the highest rated sun protection possible. Handwash, line dry.\\r\\n\\r\\nAdditional Features: Wicks moisture for quick-drying comfort. Fits comfortably over your favorite swimsuit. Abrasion resistant for season after season of wear. Imported.\\r\\n\\r\\nSun Protection That Won\\'t Wear Off\\r\\nOur high-performance fabric provides SPF 50+ sun protection, blocking 98% of the sun\\'s harmful rays. This fabric is recommended by The Skin Cancer Foundation as an effective UV protectant.'))"
      ]
     },
     "execution_count": 46,
     "metadata": {},
     "output_type": "execute_result"
    }
   ],
   "source": [
    "len(docs), docs[0]"
   ]
  },
  {
   "cell_type": "code",
   "execution_count": 48,
   "id": "d814ab29-1432-4599-b44d-018f6b7b3787",
   "metadata": {},
   "outputs": [
    {
     "data": {
      "text/plain": [
       "VectorStoreRetriever(tags=['DocArrayInMemorySearch'], vectorstore=<langchain_community.vectorstores.docarray.in_memory.DocArrayInMemorySearch object at 0x7f587619c430>)"
      ]
     },
     "execution_count": 48,
     "metadata": {},
     "output_type": "execute_result"
    }
   ],
   "source": [
    "retriever = db.as_retriever()\n",
    "retriever"
   ]
  },
  {
   "cell_type": "code",
   "execution_count": 49,
   "id": "d0353d4f-2aaf-4903-83f3-454fb2f54ed9",
   "metadata": {},
   "outputs": [],
   "source": [
    "qdocs = \"\".join([docs[i].page_content for i in range(len(docs))])"
   ]
  },
  {
   "cell_type": "code",
   "execution_count": 50,
   "id": "9ea45c2d-f308-4bb3-831c-b261112e5f9f",
   "metadata": {},
   "outputs": [
    {
     "data": {
      "text/plain": [
       "': 255\\nname: Sun Shield Shirt by\\ndescription: \"Block the sun, not the fun – our high-performance sun shirt is guaranteed to protect from harmful UV rays. \\r\\n\\r\\nSize & Fit: Slightly Fitted: Softly shapes the body. Falls at hip.\\r\\n\\r\\nFabric & Care: 78% nylon, 22% Lycra Xtra Life fiber. UPF 50+ rated – the highest rated sun protection possible. Handwash, line dry.\\r\\n\\r\\nAdditional Features: Wicks moisture for quick-drying comfort. Fits comfortably over your favorite swimsuit. Abrasion resistant for season after season of wear. Imported.\\r\\n\\r\\nSun Protection That Won\\'t Wear Off\\r\\nOur high-performance fabric provides SPF 50+ sun protection, blocking 98% of the sun\\'s harmful rays. This fabric is recommended by The Skin Cancer Foundation as an effective UV protectant.: 374\\nname: Men\\'s Plaid Tropic Shirt, Short-Sleeve\\ndescription: Our Ultracomfortable sun protection is rated to UPF 50+, helping you stay cool and dry. Originally designed for fishing, this lightest hot-weather shirt offers UPF 50+ coverage and is great for extended travel. SunSmart technology blocks 98% of the sun\\'s harmful UV rays, while the high-performance fabric is wrinkle-free and quickly evaporates perspiration. Made with 52% polyester and 48% nylon, this shirt is machine washable and dryable. Additional features include front and back cape venting, two front bellows pockets and an imported design. With UPF 50+ coverage, you can limit sun exposure and feel secure with the highest rated sun protection available.: 535\\nname: Men\\'s TropicVibe Shirt, Short-Sleeve\\ndescription: This Men’s sun-protection shirt with built-in UPF 50+ has the lightweight feel you want and the coverage you need when the air is hot and the UV rays are strong. Size & Fit: Traditional Fit: Relaxed through the chest, sleeve and waist. Fabric & Care: Shell: 71% Nylon, 29% Polyester. Lining: 100% Polyester knit mesh. UPF 50+ rated – the highest rated sun protection possible. Machine wash and dry. Additional Features: Wrinkle resistant. Front and back cape venting lets in cool breezes. Two front bellows pockets. Imported.\\r\\n\\r\\nSun Protection That Won\\'t Wear Off: Our high-performance fabric provides SPF 50+ sun protection, blocking 98% of the sun\\'s harmful rays.: 618\\nname: Men\\'s Tropical Plaid Short-Sleeve Shirt\\ndescription: Our lightest hot-weather shirt is rated UPF 50+ for superior protection from the sun\\'s UV rays. With a traditional fit that is relaxed through the chest, sleeve, and waist, this fabric is made of 100% polyester and is wrinkle-resistant. With front and back cape venting that lets in cool breezes and two front bellows pockets, this shirt is imported and provides the highest rated sun protection possible. \\r\\n\\r\\nSun Protection That Won\\'t Wear Off. Our high-performance fabric provides SPF 50+ sun protection, blocking 98% of the sun\\'s harmful rays.'"
      ]
     },
     "execution_count": 50,
     "metadata": {},
     "output_type": "execute_result"
    }
   ],
   "source": [
    "qdocs"
   ]
  },
  {
   "cell_type": "code",
   "execution_count": 51,
   "id": "0ece0c24-9ee9-4d71-a489-ac2e585c10e1",
   "metadata": {},
   "outputs": [
    {
     "name": "stderr",
     "output_type": "stream",
     "text": [
      "/home/agastya/mambaforge/lib/python3.10/site-packages/langchain_core/_api/deprecation.py:139: LangChainDeprecationWarning: The method `BaseChatModel.call_as_llm` was deprecated in langchain-core 0.1.7 and will be removed in 0.3.0. Use invoke instead.\n",
      "  warn_deprecated(\n"
     ]
    }
   ],
   "source": [
    "response = llm.call_as_llm(f\"{qdocs} Question: Please list all your \\\n",
    "shirts with sun protection in a table in markdown and summarize each one.\")"
   ]
  },
  {
   "cell_type": "code",
   "execution_count": 54,
   "id": "6c30036a-4100-4844-a7bd-0164ee173693",
   "metadata": {},
   "outputs": [
    {
     "data": {
      "text/markdown": [
       "| Shirt Name | Material Composition | Sun Protection Rating | Additional Features |\n",
       "|------------|------------------------|-------------------------|---------------------|\n",
       "| Sun Shield Shirt| 78% nylon, 22% Lycra Xtra Life fiber | UPF 50+ | Wicks moisture for quick-drying comfort. Fits comfortably over your favorite swimsuit. Abrasion resistant for season after season of wear. |\n",
       "| Men's Plaid Tropic Shirt, Short-Sleeve | 52% polyester and 48% nylon | UPF 50+ | Front and back cape venting, two front bellows pockets, wrinkle-free and quickly evaporates perspiration. |\n",
       "| Men's TropicVibe Shirt, Short-Sleeve | Shell: 71% Nylon, 29% Polyester. Lining: 100% Polyester knit mesh | UPF 50+ | Wrinkle resistant. Front and back cape venting lets in cool breezes. Two front bellows pockets. |\n",
       "| Men's Tropical Plaid Short-Sleeve Shirt | 100% polyester | UPF 50+ | Front and back cape venting that lets in cool breezes and two front bellows pockets. Wrinkle-resistant. |\n",
       "\n",
       "Summary:\n",
       "\n",
       "1. Sun Shield Shirt: This shirt not only blocks harmful UV rays, but also wicks moisture for quick drying. It fits comfortably over any swimsuit and is abrasion-resistant for durable wear.\n",
       "2. Men's Plaid Tropic Shirt, Short-Sleeve: Originally designed for fishing, this shirt provides excellent sun protection and quickly evaporates perspiration. It also features front and back cape venting and two front bellows pockets.\n",
       "3. Men's TropicVibe Shirt, Short-Sleeve: This shirt has built-in sun protection and a lightweight feel. It is wrinkle-resistant with front and back cape venting for cool breezes and two front bellows pockets for added convenience.\n",
       "4. Men's Tropical Plaid Short-Sleeve Shirt: This shirt provides superior sun protection. It includes front and back cape venting to let in cool breezes, two front bellows pockets for convenience, and is wrinkle-resistant for a polished look."
      ],
      "text/plain": [
       "<IPython.core.display.Markdown object>"
      ]
     },
     "metadata": {},
     "output_type": "display_data"
    }
   ],
   "source": [
    "display(Markdown(response))"
   ]
  },
  {
   "cell_type": "code",
   "execution_count": 55,
   "id": "e17a85ba-b215-446e-9305-868983a9aa37",
   "metadata": {},
   "outputs": [],
   "source": [
    "qa_stuff = RetrievalQA.from_chain_type(\n",
    "    llm=llm, \n",
    "    chain_type=\"stuff\", \n",
    "    retriever=retriever, \n",
    "    verbose=True\n",
    ")"
   ]
  },
  {
   "cell_type": "code",
   "execution_count": 56,
   "id": "2d3d7838-ad23-4214-8d7b-a35120d12d4c",
   "metadata": {},
   "outputs": [],
   "source": [
    "query =  \"Please list all your shirts with sun protection in a table \\\n",
    "in markdown and summarize each one.\""
   ]
  },
  {
   "cell_type": "code",
   "execution_count": 57,
   "id": "0421b7cb-84e6-475e-85ff-5260bcc137b8",
   "metadata": {},
   "outputs": [
    {
     "name": "stderr",
     "output_type": "stream",
     "text": [
      "/home/agastya/mambaforge/lib/python3.10/site-packages/langchain_core/_api/deprecation.py:139: LangChainDeprecationWarning: The method `Chain.run` was deprecated in langchain 0.1.0 and will be removed in 0.3.0. Use invoke instead.\n",
      "  warn_deprecated(\n"
     ]
    },
    {
     "name": "stdout",
     "output_type": "stream",
     "text": [
      "\n",
      "\n",
      "\u001b[1m> Entering new RetrievalQA chain...\u001b[0m\n",
      "\n",
      "\u001b[1m> Finished chain.\u001b[0m\n"
     ]
    }
   ],
   "source": [
    "response = qa_stuff.run(query)"
   ]
  },
  {
   "cell_type": "code",
   "execution_count": 62,
   "id": "0949382b-7402-46d2-9843-d251f1bcc73c",
   "metadata": {},
   "outputs": [
    {
     "data": {
      "text/markdown": [
       "Sure, here's the list of shirts with sun protection:\n",
       "\n",
       "|   ID  |                    Name                    |                                               Summary                                               |\n",
       "|:-----:|:----------------------------------------:|:-------------------------------------------------------------------------------------------------:|\n",
       "|  618  |  Men's Tropical Plaid Short-Sleeve Shirt  |  100% polyester shirt, UPF 50+ rated, wrinkle-resistant, includes venting, two pockets, imported.  |\n",
       "|  374  |     Men's Plaid Tropic Shirt, Short-Sleeve    |  52% polyester and 48% nylon shirt, UPF 50+ rated, wrinkle-resistant, evaporates perspiration, includes venting, two pockets, machine washable, imported.  |\n",
       "|  255  |             Sun Shield Shirt by           |  78% nylon, and 22% Lycra shirt, UPF 50+ rated, recommended by The Skin Cancer Foundation, handwash, line dry. |\n",
       "|  535  | Men's TropicVibe Shirt, Short-Sleeve      | 71% nylon, and 29% polyester shirt, UPF 50+ rated, wrinkle-resistant, includes venting, two pockets, machine washable, imported. |"
      ],
      "text/plain": [
       "<IPython.core.display.Markdown object>"
      ]
     },
     "execution_count": 62,
     "metadata": {},
     "output_type": "execute_result"
    }
   ],
   "source": [
    "Markdown(response)"
   ]
  },
  {
   "cell_type": "code",
   "execution_count": 63,
   "id": "bddb278b-3919-431e-b292-72bf3a77c3f1",
   "metadata": {},
   "outputs": [],
   "source": [
    "response = index.query(query, llm=llm)"
   ]
  },
  {
   "cell_type": "code",
   "execution_count": null,
   "id": "82f8c4fd-25aa-4aa5-867d-0de5039ed83e",
   "metadata": {},
   "outputs": [],
   "source": []
  }
 ],
 "metadata": {
  "kernelspec": {
   "display_name": "Python 3 (ipykernel)",
   "language": "python",
   "name": "python3"
  },
  "language_info": {
   "codemirror_mode": {
    "name": "ipython",
    "version": 3
   },
   "file_extension": ".py",
   "mimetype": "text/x-python",
   "name": "python",
   "nbconvert_exporter": "python",
   "pygments_lexer": "ipython3",
   "version": "3.10.14"
  }
 },
 "nbformat": 4,
 "nbformat_minor": 5
}
