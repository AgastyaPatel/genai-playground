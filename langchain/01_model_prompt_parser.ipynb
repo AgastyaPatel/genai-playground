{
 "cells": [
  {
   "cell_type": "code",
   "execution_count": null,
   "id": "8c992c95-f694-428a-ae04-d023a5442500",
   "metadata": {},
   "outputs": [],
   "source": [
    "!pip install openai python-dotenv"
   ]
  },
  {
   "cell_type": "markdown",
   "id": "88933634-b49d-4508-8820-ba98cd0b39dc",
   "metadata": {},
   "source": [
    "## Outline\n",
    "\n",
    " * Direct API calls to OpenAI\n",
    " * API calls through LangChain:\n",
    "   * Prompts\n",
    "   * Models\n",
    "   * Output parsers"
   ]
  },
  {
   "cell_type": "code",
   "execution_count": 17,
   "id": "1c9e89db-07df-4ee1-8334-1e0bc6b5ee3d",
   "metadata": {},
   "outputs": [],
   "source": [
    "import os\n",
    "from openai import OpenAI\n",
    "import openai\n",
    "\n",
    "from dotenv import load_dotenv, find_dotenv"
   ]
  },
  {
   "cell_type": "code",
   "execution_count": 18,
   "id": "9c9a99bd-66d7-4960-9108-a2d28f177d45",
   "metadata": {},
   "outputs": [],
   "source": [
    "_ = load_dotenv(find_dotenv())\n",
    "openai.api_key = os.environ['OPENAI_API_KEY']"
   ]
  },
  {
   "cell_type": "code",
   "execution_count": 19,
   "id": "66b0be0c-1bef-4b21-935b-3b92227fd2a0",
   "metadata": {},
   "outputs": [],
   "source": [
    "llm_model = \"gpt-4\""
   ]
  },
  {
   "cell_type": "code",
   "execution_count": 20,
   "id": "720710ad-ff8b-4ee2-b4a0-ad0911083216",
   "metadata": {},
   "outputs": [],
   "source": [
    "prompt = 'Hello, I\\'m using api to access the llm. Tell me more about you'"
   ]
  },
  {
   "cell_type": "code",
   "execution_count": 21,
   "id": "2d4e5654-3fe1-4a53-920c-883086da418c",
   "metadata": {},
   "outputs": [],
   "source": [
    "client = OpenAI()\n",
    "\n",
    "stream = client.chat.completions.create(\n",
    "    model=llm_model,\n",
    "    messages = [{'role': 'user', 'content': prompt}]\n",
    ")"
   ]
  },
  {
   "cell_type": "code",
   "execution_count": 22,
   "id": "060bfdb2-e2cf-4bbf-8120-fe128115894a",
   "metadata": {},
   "outputs": [
    {
     "data": {
      "text/plain": [
       "ChatCompletion(id='chatcmpl-9iF1WuWcgic2K0WEaXe7IWSYxaJHK', choices=[Choice(finish_reason='stop', index=0, logprobs=None, message=ChatCompletionMessage(content=\"As an AI developed by OpenAI, I don't have personal experiences or attributes. However, I am designed to provide information, support, and answer questions to the best of my ability. I use machine learning models to understand and generate text based on the input I receive. I'm here to help with a wide range of requests, from general information to specific tasks. Is there anything in particular you would like to know?\", role='assistant', function_call=None, tool_calls=None))], created=1720331210, model='gpt-4-0613', object='chat.completion', service_tier=None, system_fingerprint=None, usage=CompletionUsage(completion_tokens=85, prompt_tokens=24, total_tokens=109))"
      ]
     },
     "execution_count": 22,
     "metadata": {},
     "output_type": "execute_result"
    }
   ],
   "source": [
    "stream"
   ]
  },
  {
   "cell_type": "code",
   "execution_count": 42,
   "id": "b74380e2-3e71-452d-b8bd-69d1b008296a",
   "metadata": {},
   "outputs": [],
   "source": [
    "## Chai API: OpenAI\n",
    "def get_completion(prompt, model=llm_model):\n",
    "    messages = [{'role': 'user', 'content': prompt}]\n",
    "    response = client.chat.completions.create(\n",
    "        model=llm_model,\n",
    "        messages = [{'role': 'user', 'content': prompt}],\n",
    "        temperature=0,\n",
    "    )\n",
    "    return response.choices[0].message.content"
   ]
  },
  {
   "cell_type": "code",
   "execution_count": 45,
   "id": "27723f3f-6434-40f2-ad34-f5619117bc22",
   "metadata": {},
   "outputs": [
    {
     "data": {
      "text/plain": [
       "\"As an AI developed by OpenAI, I don't have personal experiences or emotions, but I'm designed to understand and generate human-like text based on the input I receive. I can assist with a wide range of tasks, from answering questions and providing explanations to creating written content and more. I'm constantly learning and improving from a vast amount of information, but I don't store personal data unless explicitly provided for the purpose of the conversation. I'm here to help you, so feel free to ask me anything!\""
      ]
     },
     "execution_count": 45,
     "metadata": {},
     "output_type": "execute_result"
    }
   ],
   "source": [
    "get_completion('Hello, I\\'m using api to access the llm. Tell me more about you')"
   ]
  },
  {
   "cell_type": "code",
   "execution_count": 50,
   "id": "2add2aa9-3ef1-4606-8119-48363ea8358d",
   "metadata": {},
   "outputs": [],
   "source": [
    "customer_email = \"\"\"Arrr, I be fuming that me blender lid flew off and splattered me kitchen walls with smoothie! And to make matters worse, the warranty don't cover the cost of cleaning up me kitchen. I need yer help right now, matey!\"\"\"\n",
    "\n",
    "style = \"\"\"American English in a calm and respectful tone\"\"\"\n",
    "\n",
    "prompt = f\"\"\"Translate the text thta is delimited by triple backticks into a stype that is {style}. text: ```{customer_email}```\"\"\""
   ]
  },
  {
   "cell_type": "code",
   "execution_count": 51,
   "id": "98f2bdc4-2653-4b73-9e15-c33f90473627",
   "metadata": {},
   "outputs": [
    {
     "name": "stdout",
     "output_type": "stream",
     "text": [
      "Translate the text thta is delimited by triple backticks into a stype that is American English in a calm and respectful tone. text: ```Arrr, I be fuming that me blender lid flew off and splattered me kitchen walls with smoothie! And to make matters worse, the warranty don't cover the cost of cleaning up me kitchen. I need yer help right now, matey!```\n"
     ]
    }
   ],
   "source": [
    "print(prompt)"
   ]
  },
  {
   "cell_type": "code",
   "execution_count": 52,
   "id": "5376e2b9-9eb5-40c7-a4a8-9e40501c2dcc",
   "metadata": {},
   "outputs": [
    {
     "data": {
      "text/plain": [
       "\"I'm quite upset that the lid of my blender flew off and splattered my kitchen walls with smoothie. To add to the frustration, the warranty doesn't cover the cost of cleaning up my kitchen. I need your assistance immediately, please.\""
      ]
     },
     "execution_count": 52,
     "metadata": {},
     "output_type": "execute_result"
    }
   ],
   "source": [
    "response = get_completion(prompt)\n",
    "response"
   ]
  },
  {
   "cell_type": "markdown",
   "id": "29778286-13dc-4017-b8fb-d26516b88d34",
   "metadata": {},
   "source": [
    "### Chat API: LangChain"
   ]
  },
  {
   "cell_type": "code",
   "execution_count": null,
   "id": "b8de6bb3-a199-471a-9754-da8241dd45d3",
   "metadata": {},
   "outputs": [],
   "source": [
    "!pip install --upgrade langchain"
   ]
  },
  {
   "cell_type": "code",
   "execution_count": null,
   "id": "65d21bde-9858-490a-86a2-f6690979d874",
   "metadata": {},
   "outputs": [],
   "source": [
    "!pip install langchain-openai"
   ]
  },
  {
   "cell_type": "markdown",
   "id": "a828ee98-5922-4e61-8c25-9e47e9b78bfe",
   "metadata": {},
   "source": [
    "#### Model"
   ]
  },
  {
   "cell_type": "code",
   "execution_count": 62,
   "id": "3f380eb8-2823-4691-857b-ebdec479412e",
   "metadata": {},
   "outputs": [],
   "source": [
    "from langchain_openai import ChatOpenAI"
   ]
  },
  {
   "cell_type": "code",
   "execution_count": 63,
   "id": "f0b2f366-b936-4864-9f2b-7dd36a99e9b4",
   "metadata": {},
   "outputs": [],
   "source": [
    "chat = ChatOpenAI(temperature=0.0, model=llm_model) "
   ]
  },
  {
   "cell_type": "markdown",
   "id": "c93b10d5-4fbc-4a65-9c2c-de0894a286d5",
   "metadata": {},
   "source": [
    "#### Prompt Template"
   ]
  },
  {
   "cell_type": "code",
   "execution_count": 64,
   "id": "2ab0c9f2-1240-4ab3-b5ab-508b791d2fdc",
   "metadata": {},
   "outputs": [],
   "source": [
    "template_string = \"\"\"Translate the text that is delimited by tripple backticks into a style that is {style}.\\text: ```{text}```\"\"\" "
   ]
  },
  {
   "cell_type": "code",
   "execution_count": 72,
   "id": "3eadb9d3-c637-4e14-9f19-fcc05071677a",
   "metadata": {},
   "outputs": [],
   "source": [
    "from langchain.prompts import ChatPromptTemplate\n",
    "prompt_template = ChatPromptTemplate.from_template(template_string)"
   ]
  },
  {
   "cell_type": "code",
   "execution_count": 73,
   "id": "3eeafe02-7c46-4d95-87b3-244cce22e48b",
   "metadata": {},
   "outputs": [
    {
     "data": {
      "text/plain": [
       "PromptTemplate(input_variables=['style', 'text'], template='Translate the text that is delimited by tripple backticks into a style that is {style}.\\text: ```{text}```')"
      ]
     },
     "execution_count": 73,
     "metadata": {},
     "output_type": "execute_result"
    }
   ],
   "source": [
    "prompt_template.messages[0].prompt"
   ]
  },
  {
   "cell_type": "code",
   "execution_count": 75,
   "id": "f692da86-b698-4b0d-be93-f1a2d08c314d",
   "metadata": {},
   "outputs": [
    {
     "data": {
      "text/plain": [
       "['style', 'text']"
      ]
     },
     "execution_count": 75,
     "metadata": {},
     "output_type": "execute_result"
    }
   ],
   "source": [
    "prompt_template.messages[0].prompt.input_variables"
   ]
  },
  {
   "cell_type": "code",
   "execution_count": 77,
   "id": "e0205b99-7590-4b96-92f4-78e678a6da69",
   "metadata": {},
   "outputs": [],
   "source": [
    "customer_messages = prompt_template.format_messages(\n",
    "    style=style,\n",
    "    text=customer_email)"
   ]
  },
  {
   "cell_type": "code",
   "execution_count": 78,
   "id": "fa04bf04-e356-4a19-a12e-9eae784d0369",
   "metadata": {},
   "outputs": [
    {
     "data": {
      "text/plain": [
       "[HumanMessage(content=\"Translate the text that is delimited by tripple backticks into a style that is American English in a calm and respectful tone.\\text: ```Arrr, I be fuming that me blender lid flew off and splattered me kitchen walls with smoothie! And to make matters worse, the warranty don't cover the cost of cleaning up me kitchen. I need yer help right now, matey!```\")]"
      ]
     },
     "execution_count": 78,
     "metadata": {},
     "output_type": "execute_result"
    }
   ],
   "source": [
    "customer_messages"
   ]
  },
  {
   "cell_type": "code",
   "execution_count": 79,
   "id": "30e2d663-a8c0-43e5-9913-e823ee0d73ac",
   "metadata": {},
   "outputs": [
    {
     "name": "stderr",
     "output_type": "stream",
     "text": [
      "/home/agastya/mambaforge/lib/python3.10/site-packages/langchain_core/_api/deprecation.py:139: LangChainDeprecationWarning: The method `BaseChatModel.__call__` was deprecated in langchain-core 0.1.7 and will be removed in 0.3.0. Use invoke instead.\n",
      "  warn_deprecated(\n"
     ]
    }
   ],
   "source": [
    "customer_response = chat(customer_messages)"
   ]
  },
  {
   "cell_type": "code",
   "execution_count": 82,
   "id": "d3ea8cda-e7c2-4f0e-9530-ca6c7be37737",
   "metadata": {},
   "outputs": [
    {
     "data": {
      "text/plain": [
       "AIMessage(content=\"I'm quite upset that my blender lid came off and splattered my kitchen walls with smoothie. To add to the frustration, the warranty doesn't cover the cost of cleaning up my kitchen. I need your assistance immediately, please.\", response_metadata={'token_usage': {'completion_tokens': 47, 'prompt_tokens': 89, 'total_tokens': 136}, 'model_name': 'gpt-4-0613', 'system_fingerprint': None, 'finish_reason': 'stop', 'logprobs': None}, id='run-2ac29af5-3268-4d17-b5ba-490525e01577-0', usage_metadata={'input_tokens': 89, 'output_tokens': 47, 'total_tokens': 136})"
      ]
     },
     "execution_count": 82,
     "metadata": {},
     "output_type": "execute_result"
    }
   ],
   "source": [
    "customer_response"
   ]
  },
  {
   "cell_type": "code",
   "execution_count": 81,
   "id": "f1b154db-486a-4281-89ea-8f21d7f884c9",
   "metadata": {},
   "outputs": [
    {
     "data": {
      "text/plain": [
       "\"I'm quite upset that my blender lid came off and splattered my kitchen walls with smoothie. To add to the frustration, the warranty doesn't cover the cost of cleaning up my kitchen. I need your assistance immediately, please.\""
      ]
     },
     "execution_count": 81,
     "metadata": {},
     "output_type": "execute_result"
    }
   ],
   "source": [
    "customer_response.content"
   ]
  },
  {
   "cell_type": "markdown",
   "id": "47740227-9d1e-44ed-90e3-a9683f857673",
   "metadata": {},
   "source": [
    "### One more example"
   ]
  },
  {
   "cell_type": "code",
   "execution_count": 83,
   "id": "558b2221-9bad-4ab0-9c02-36d8a3456c8a",
   "metadata": {},
   "outputs": [],
   "source": [
    "style_2 = \"\"\"a polite and funny tone that speaks in English pirate\"\"\""
   ]
  },
  {
   "cell_type": "code",
   "execution_count": 84,
   "id": "a2fcd49b-7c97-4e0b-8285-2a064ad07685",
   "metadata": {},
   "outputs": [
    {
     "data": {
      "text/plain": [
       "[HumanMessage(content=\"Translate the text that is delimited by tripple backticks into a style that is a polite and funny tone that speaks in English pirate.\\text: ```Arrr, I be fuming that me blender lid flew off and splattered me kitchen walls with smoothie! And to make matters worse, the warranty don't cover the cost of cleaning up me kitchen. I need yer help right now, matey!```\")]"
      ]
     },
     "execution_count": 84,
     "metadata": {},
     "output_type": "execute_result"
    }
   ],
   "source": [
    "service_message = prompt_template.format_messages(style=style_2, text=customer_email)\n",
    "service_message"
   ]
  },
  {
   "cell_type": "code",
   "execution_count": 85,
   "id": "01457245-f5d6-41f7-9b0b-4d6143f39fdb",
   "metadata": {},
   "outputs": [
    {
     "data": {
      "text/plain": [
       "AIMessage(content=\"Blimey, I be spittin' feathers that me blender lid took flight and splattered me galley walls with fruit grog! And to add insult to injury, the warranty don't be coverin' the cost of swabbin' the deck of me galley. I be in dire need of yer assistance this very moment, shipmate!\", response_metadata={'token_usage': {'completion_tokens': 73, 'prompt_tokens': 91, 'total_tokens': 164}, 'model_name': 'gpt-4-0613', 'system_fingerprint': None, 'finish_reason': 'stop', 'logprobs': None}, id='run-0a813df8-ff38-4942-bede-94cb6c4bc0f3-0', usage_metadata={'input_tokens': 91, 'output_tokens': 73, 'total_tokens': 164})"
      ]
     },
     "execution_count": 85,
     "metadata": {},
     "output_type": "execute_result"
    }
   ],
   "source": [
    "service_response = chat(service_message)\n",
    "service_response"
   ]
  },
  {
   "cell_type": "markdown",
   "id": "9fa9335d-8597-4322-9dc1-ebb377ca9bce",
   "metadata": {},
   "source": [
    "## Output Parser\n",
    "Defining the output structure of the LLM Output"
   ]
  },
  {
   "cell_type": "code",
   "execution_count": 87,
   "id": "1063094c-d98f-4abf-9973-c5da6e30ed99",
   "metadata": {},
   "outputs": [
    {
     "data": {
      "text/plain": [
       "{'gift': False, 'delivery_days': 5, 'price_value': 'pretty affordable!'}"
      ]
     },
     "execution_count": 87,
     "metadata": {},
     "output_type": "execute_result"
    }
   ],
   "source": [
    "{\n",
    "  \"gift\": False,\n",
    "  \"delivery_days\": 5,\n",
    "  \"price_value\": \"pretty affordable!\"\n",
    "}"
   ]
  },
  {
   "cell_type": "code",
   "execution_count": 88,
   "id": "bab2ef0c-ac4d-46b0-90a2-ff717abc10ac",
   "metadata": {},
   "outputs": [],
   "source": [
    "customer_review = \"\"\"This leaf blower is pretty amazing. It has four settings: candle blower, gentle breeze, windy city, and tornado. \\\n",
    "It arrived in two days, just in time for my wife's anniversary present. I think my wife liked it so much she was speechless. \\\n",
    "So far I've been the only one using it, and I've been using it every other morning to clear the leaves on our lawn. \\\n",
    "It's slightly more expensive than the other leaf blowers out there, but I think it's worth it for the extra features.\"\"\"\n",
    "\n",
    "review_template = \"\"\"\n",
    "For the following text, extract the following information\n",
    "gift: Was the item purchased as a gift for someone else? \\\n",
    "Answer True if yes, False if not or unknown.\n",
    "\n",
    "delivery_days: How many days dd it take for the product to arrive? If this informattion is not found, output -1.\n",
    "\n",
    "price_value: Extract any sentences about the value or price, and output them as a comma separated Python list.\n",
    "\n",
    "format the output as JSON with the following keys:\n",
    "gift\n",
    "delivery_days\n",
    "price_value\n",
    "\n",
    "text: {text}\n",
    "\"\"\""
   ]
  },
  {
   "cell_type": "code",
   "execution_count": 89,
   "id": "6db6bfd6-91e2-4b6f-ba0d-18642fb6e999",
   "metadata": {},
   "outputs": [],
   "source": [
    "from langchain.prompts import ChatPromptTemplate\n",
    "\n",
    "prompt_template = ChatPromptTemplate.from_template(review_template)"
   ]
  },
  {
   "cell_type": "code",
   "execution_count": 90,
   "id": "9f670dce-d00f-4694-bba1-fc7741b60605",
   "metadata": {},
   "outputs": [
    {
     "data": {
      "text/plain": [
       "ChatPromptTemplate(input_variables=['text'], messages=[HumanMessagePromptTemplate(prompt=PromptTemplate(input_variables=['text'], template='\\nFor the following text, extract the following information\\ngift: Was the item purchased as a gift for someone else? Answer True if yes, False if not or unknown.\\n\\ndelivery_days: How many days dd it take for the product to arrive? If this informattion is not found, output -1.\\n\\nprice_value: Extract any sentences about the value or price, and output them as a comma separated Python list.\\n\\nformat the output as JSON with the following keys:\\ngift\\ndelivery_days\\nprice_value\\n\\ntext: {text}\\n'))])"
      ]
     },
     "execution_count": 90,
     "metadata": {},
     "output_type": "execute_result"
    }
   ],
   "source": [
    "prompt_template"
   ]
  },
  {
   "cell_type": "code",
   "execution_count": 92,
   "id": "51ac516c-c871-483c-9172-bfa8882e2139",
   "metadata": {},
   "outputs": [],
   "source": [
    "messages=prompt_template.format_messages(text=customer_review)\n",
    "chat = ChatOpenAI(temperature=0.0, model = llm_model)\n",
    "response = chat(messages)"
   ]
  },
  {
   "cell_type": "code",
   "execution_count": 95,
   "id": "f944d038-9a0a-41c6-a5d1-60919a9c476c",
   "metadata": {},
   "outputs": [
    {
     "data": {
      "text/plain": [
       "'{\\n\"gift\": true,\\n\"delivery_days\": 2,\\n\"price_value\": [\"It\\'s slightly more expensive than the other leaf blowers out there, but I think it\\'s worth it for the extra features.\"]\\n}'"
      ]
     },
     "execution_count": 95,
     "metadata": {},
     "output_type": "execute_result"
    }
   ],
   "source": [
    "response.content"
   ]
  },
  {
   "cell_type": "code",
   "execution_count": 97,
   "id": "43db499e-952a-44f7-8ec9-002fe3b1c82c",
   "metadata": {},
   "outputs": [
    {
     "ename": "AttributeError",
     "evalue": "'str' object has no attribute 'get'",
     "output_type": "error",
     "traceback": [
      "\u001b[0;31m---------------------------------------------------------------------------\u001b[0m",
      "\u001b[0;31mAttributeError\u001b[0m                            Traceback (most recent call last)",
      "Cell \u001b[0;32mIn[97], line 1\u001b[0m\n\u001b[0;32m----> 1\u001b[0m \u001b[43mresponse\u001b[49m\u001b[38;5;241;43m.\u001b[39;49m\u001b[43mcontent\u001b[49m\u001b[38;5;241;43m.\u001b[39;49m\u001b[43mget\u001b[49m(\u001b[38;5;124m'\u001b[39m\u001b[38;5;124mgift\u001b[39m\u001b[38;5;124m'\u001b[39m)\n",
      "\u001b[0;31mAttributeError\u001b[0m: 'str' object has no attribute 'get'"
     ]
    }
   ],
   "source": [
    "response.content.get('gift')"
   ]
  },
  {
   "cell_type": "markdown",
   "id": "49a6d42a-b9f1-4748-a346-fc5c2b7d06ac",
   "metadata": {},
   "source": [
    "Since the llm output is pure string & we need the llm output to be formatted in json"
   ]
  },
  {
   "cell_type": "markdown",
   "id": "4ab36608-b052-4f38-83aa-2e37e7b3215d",
   "metadata": {},
   "source": [
    "#### Parsing the LLM output string into a Python Dictionary"
   ]
  },
  {
   "cell_type": "code",
   "execution_count": 98,
   "id": "e1b1c959-9ed8-42e2-b44a-72bbc418a55a",
   "metadata": {},
   "outputs": [],
   "source": [
    "from langchain.output_parsers import ResponseSchema\n",
    "from langchain.output_parsers import StructuredOutputParser"
   ]
  },
  {
   "cell_type": "code",
   "execution_count": 100,
   "id": "cae2c360-2c00-4db1-997c-7e5cdc8e741c",
   "metadata": {},
   "outputs": [],
   "source": [
    "gift_schema = ResponseSchema(name='gift',\n",
    "                             description=\"Was the item purchased as a gift forr someone else? \\\n",
    "                             Answer True if yes, False if not or unknown\")\n",
    "delivery_days_schema = ResponseSchema(name='delivery_days',\n",
    "                                     description=\"How many days dd it take for the product to arrive? \\\n",
    "                                     If this informattion is not found, output -1.\")\n",
    "price_value_schema = ResponseSchema(name='price_value',\n",
    "                                    description=\"Extract any sentences about the value or price, \\\n",
    "                                    and output them as a comma separated Python list.\")\n",
    "response_schemas = [gift_schema, delivery_days_schema, price_value_schema]"
   ]
  },
  {
   "cell_type": "code",
   "execution_count": 101,
   "id": "99813c4f-a029-456f-8e84-8b83f72a6874",
   "metadata": {},
   "outputs": [],
   "source": [
    "output_parser = StructuredOutputParser.from_response_schemas(response_schemas)"
   ]
  },
  {
   "cell_type": "code",
   "execution_count": 102,
   "id": "d7f001c1-8bb8-42ab-99d0-d88ec529e40f",
   "metadata": {},
   "outputs": [
    {
     "data": {
      "text/plain": [
       "'The output should be a markdown code snippet formatted in the following schema, including the leading and trailing \"```json\" and \"```\":\\n\\n```json\\n{\\n\\t\"gift\": string  // Was the item purchased as a gift forr someone else?                              Answer True if yes, False if not or unknown\\n\\t\"delivery_days\": string  // How many days dd it take for the product to arrive?                                      If this informattion is not found, output -1.\\n\\t\"price_value\": string  // Extract any sentences about the value or price,                                     and output them as a comma separated Python list.\\n}\\n```'"
      ]
     },
     "execution_count": 102,
     "metadata": {},
     "output_type": "execute_result"
    }
   ],
   "source": [
    "format_instructions = output_parser.get_format_instructions()\n",
    "format_instructions"
   ]
  },
  {
   "cell_type": "code",
   "execution_count": 103,
   "id": "2fbdeb7b-b790-424c-89df-cfac0ee0f923",
   "metadata": {},
   "outputs": [],
   "source": [
    "review_template_2 = \"\"\"\\\n",
    "For the following text, extract the following information:\n",
    "\n",
    "gift: Was the item purchased as a gift for someone else? \\\n",
    "Answer True if yes, False if not or unknown.\n",
    "\n",
    "delivery_days: How many days did it take for the product\\\n",
    "to arrive? If this information is not found, output -1.\n",
    "\n",
    "price_value: Extract any sentences about the value or price,\\\n",
    "and output them as a comma separated Python list.\n",
    "\n",
    "text: {text}\n",
    "\n",
    "{format_instructions}\n",
    "\"\"\"\n",
    "\n",
    "prompt = ChatPromptTemplate.from_template(template=review_template_2)\n",
    "\n",
    "messages = prompt.format_messages(text=customer_review, \n",
    "                                format_instructions=format_instructions)"
   ]
  },
  {
   "cell_type": "code",
   "execution_count": 104,
   "id": "32a8b71a-a8d0-4b15-bd13-8a927c87d8db",
   "metadata": {},
   "outputs": [
    {
     "data": {
      "text/plain": [
       "'For the following text, extract the following information:\\n\\ngift: Was the item purchased as a gift for someone else? Answer True if yes, False if not or unknown.\\n\\ndelivery_days: How many days did it take for the productto arrive? If this information is not found, output -1.\\n\\nprice_value: Extract any sentences about the value or price,and output them as a comma separated Python list.\\n\\ntext: This leaf blower is pretty amazing. It has four settings: candle blower, gentle breeze, windy city, and tornado. It arrived in two days, just in time for my wife\\'s anniversary present. I think my wife liked it so much she was speechless. So far I\\'ve been the only one using it, and I\\'ve been using it every other morning to clear the leaves on our lawn. It\\'s slightly more expensive than the other leaf blowers out there, but I think it\\'s worth it for the extra features.\\n\\nThe output should be a markdown code snippet formatted in the following schema, including the leading and trailing \"```json\" and \"```\":\\n\\n```json\\n{\\n\\t\"gift\": string  // Was the item purchased as a gift forr someone else?                              Answer True if yes, False if not or unknown\\n\\t\"delivery_days\": string  // How many days dd it take for the product to arrive?                                      If this informattion is not found, output -1.\\n\\t\"price_value\": string  // Extract any sentences about the value or price,                                     and output them as a comma separated Python list.\\n}\\n```\\n'"
      ]
     },
     "execution_count": 104,
     "metadata": {},
     "output_type": "execute_result"
    }
   ],
   "source": [
    "messages[0].content"
   ]
  },
  {
   "cell_type": "code",
   "execution_count": 106,
   "id": "514a71f5-467a-47c4-90c7-51ce806e7c84",
   "metadata": {},
   "outputs": [
    {
     "data": {
      "text/plain": [
       "AIMessage(content='```json\\n{\\n\\t\"gift\": \"True\",\\n\\t\"delivery_days\": \"2\",\\n\\t\"price_value\": [\"It\\'s slightly more expensive than the other leaf blowers out there, but I think it\\'s worth it for the extra features.\"]\\n}\\n```', response_metadata={'token_usage': {'completion_tokens': 53, 'prompt_tokens': 326, 'total_tokens': 379}, 'model_name': 'gpt-4-0613', 'system_fingerprint': None, 'finish_reason': 'stop', 'logprobs': None}, id='run-68fad490-e0cf-4de7-b573-ff2a7a1bf1eb-0', usage_metadata={'input_tokens': 326, 'output_tokens': 53, 'total_tokens': 379})"
      ]
     },
     "execution_count": 106,
     "metadata": {},
     "output_type": "execute_result"
    }
   ],
   "source": [
    "response = chat(messages)\n",
    "response"
   ]
  },
  {
   "cell_type": "code",
   "execution_count": 107,
   "id": "a46c26e4-7132-4f21-85fb-ea1b6190ad6f",
   "metadata": {},
   "outputs": [
    {
     "data": {
      "text/plain": [
       "'```json\\n{\\n\\t\"gift\": \"True\",\\n\\t\"delivery_days\": \"2\",\\n\\t\"price_value\": [\"It\\'s slightly more expensive than the other leaf blowers out there, but I think it\\'s worth it for the extra features.\"]\\n}\\n```'"
      ]
     },
     "execution_count": 107,
     "metadata": {},
     "output_type": "execute_result"
    }
   ],
   "source": [
    "response.content"
   ]
  },
  {
   "cell_type": "code",
   "execution_count": 110,
   "id": "1f429e47-26e1-4e0a-8a40-da1f9e5cebd2",
   "metadata": {},
   "outputs": [],
   "source": [
    "output_dict = output_parser.parse(response.content)"
   ]
  },
  {
   "cell_type": "code",
   "execution_count": 111,
   "id": "a409eb59-bd3d-42b7-b31e-54eeb07cc17a",
   "metadata": {},
   "outputs": [
    {
     "data": {
      "text/plain": [
       "{'gift': 'True',\n",
       " 'delivery_days': '2',\n",
       " 'price_value': [\"It's slightly more expensive than the other leaf blowers out there, but I think it's worth it for the extra features.\"]}"
      ]
     },
     "execution_count": 111,
     "metadata": {},
     "output_type": "execute_result"
    }
   ],
   "source": [
    "output_dict"
   ]
  },
  {
   "cell_type": "code",
   "execution_count": 112,
   "id": "981b2784-2490-4f30-a7b6-b3167bc913fc",
   "metadata": {},
   "outputs": [
    {
     "data": {
      "text/plain": [
       "'True'"
      ]
     },
     "execution_count": 112,
     "metadata": {},
     "output_type": "execute_result"
    }
   ],
   "source": [
    "output_dict['gift']"
   ]
  },
  {
   "cell_type": "code",
   "execution_count": null,
   "id": "f086d929-b7b0-4dca-abfc-b8d87387568b",
   "metadata": {},
   "outputs": [],
   "source": []
  }
 ],
 "metadata": {
  "kernelspec": {
   "display_name": "Python 3 (ipykernel)",
   "language": "python",
   "name": "python3"
  },
  "language_info": {
   "codemirror_mode": {
    "name": "ipython",
    "version": 3
   },
   "file_extension": ".py",
   "mimetype": "text/x-python",
   "name": "python",
   "nbconvert_exporter": "python",
   "pygments_lexer": "ipython3",
   "version": "3.10.14"
  }
 },
 "nbformat": 4,
 "nbformat_minor": 5
}
